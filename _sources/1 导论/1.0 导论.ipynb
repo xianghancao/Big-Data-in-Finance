{
 "cells": [
  {
   "cell_type": "markdown",
   "id": "16d01d56-ea21-4b31-9248-eafb5c6f62e9",
   "metadata": {},
   "source": [
    "# 导论"
   ]
  },
  {
   "cell_type": "markdown",
   "id": "06f8b344-2608-4d33-a215-1c81fc48021f",
   "metadata": {},
   "source": [
    "## 章节目录\n",
    "* [1.1 大数据的背景](1.1%20大数据的背景.ipynb)\n",
    "* [1.1 大数据的背景](1.1%20大数据的背景.ipynb)\n",
    "* [1.1 大数据的背景](1.1%20大数据的背景.ipynb)"
   ]
  },
  {
   "cell_type": "markdown",
   "id": "fb480e0f-8b4a-4e33-92d4-8623cc05e5be",
   "metadata": {},
   "source": [
    "目录：\n",
    "\n",
    "```{contents}\n",
    "```"
   ]
  }
 ],
 "metadata": {
  "kernelspec": {
   "display_name": "Python 3 (ipykernel)",
   "language": "python",
   "name": "python3"
  },
  "language_info": {
   "codemirror_mode": {
    "name": "ipython",
    "version": 3
   },
   "file_extension": ".py",
   "mimetype": "text/x-python",
   "name": "python",
   "nbconvert_exporter": "python",
   "pygments_lexer": "ipython3",
   "version": "3.11.5"
  }
 },
 "nbformat": 4,
 "nbformat_minor": 5
}
